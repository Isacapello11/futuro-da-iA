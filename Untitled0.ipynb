{
  "nbformat": 4,
  "nbformat_minor": 0,
  "metadata": {
    "colab": {
      "provenance": [],
      "authorship_tag": "ABX9TyNXxHQc8KMXOWVr/Xf5B60R",
      "include_colab_link": true
    },
    "kernelspec": {
      "name": "python3",
      "display_name": "Python 3"
    },
    "language_info": {
      "name": "python"
    }
  },
  "cells": [
    {
      "cell_type": "markdown",
      "metadata": {
        "id": "view-in-github",
        "colab_type": "text"
      },
      "source": [
        "<a href=\"https://colab.research.google.com/github/Isacapello11/futuro-da-iA/blob/main/Untitled0.ipynb\" target=\"_parent\"><img src=\"https://colab.research.google.com/assets/colab-badge.svg\" alt=\"Open In Colab\"/></a>"
      ]
    },
    {
      "cell_type": "markdown",
      "source": [
        "## aula1"
      ],
      "metadata": {
        "id": "wDBp6L4jkAHH"
      }
    },
    {
      "cell_type": "code",
      "execution_count": null,
      "metadata": {
        "colab": {
          "base_uri": "https://localhost:8080/"
        },
        "id": "PrKYY2i6fLr1",
        "outputId": "edfc3772-602a-4b09-c716-957549cb5852"
      },
      "outputs": [
        {
          "output_type": "stream",
          "name": "stdout",
          "text": [
            "I competição de programação start\n"
          ]
        }
      ],
      "source": [
        "print(\"I competição de programação start\")"
      ]
    },
    {
      "cell_type": "code",
      "source": [
        "ano = \"II\"\n",
        "print(ano, \"competição de programação start\")"
      ],
      "metadata": {
        "colab": {
          "base_uri": "https://localhost:8080/"
        },
        "id": "MpKsTM7Sf-0M",
        "outputId": "9ec7d992-76dd-4fbb-ac47-9b9423cb7931"
      },
      "execution_count": null,
      "outputs": [
        {
          "output_type": "stream",
          "name": "stdout",
          "text": [
            "II competição de programação start\n"
          ]
        }
      ]
    },
    {
      "cell_type": "code",
      "source": [
        "ano = \"II\"\n",
        "print(f\"{ano} competição de programação start\")"
      ],
      "metadata": {
        "colab": {
          "base_uri": "https://localhost:8080/"
        },
        "id": "x_rhJOtdgQSU",
        "outputId": "52f4a9a1-6c1b-4e68-efe3-efbec2e586cb"
      },
      "execution_count": null,
      "outputs": [
        {
          "output_type": "stream",
          "name": "stdout",
          "text": [
            "II competição de programação start\n"
          ]
        }
      ]
    },
    {
      "cell_type": "markdown",
      "source": [
        "## aula2"
      ],
      "metadata": {
        "id": "zq1kiVdpkF8f"
      }
    },
    {
      "cell_type": "markdown",
      "source": [
        "contexto:\n",
        "\n",
        "Uma escola está promovendo uma campanha de incentivo à leitura, em que cada estudante recebe pontos ao concluir livros. Esses pontos podem ser trocados por diferentes prêmios da escola.As categorias de livros têm valores de pontos diferentes:\n",
        "*   livros de ficção: 10 pontos\n",
        "*   livros de não-ficção: 8 pontos\n",
        "*   livros infantil: 6 pontos\n",
        "\n",
        "**Problema:**\n",
        "\n",
        "Rodrigo leu um livro de cada categoria.Agora ele quer saber quantos pontos acumulou com sua leitura.\n",
        "\n",
        "Nosso objetivo é criar um programa em python que:\n",
        "\n",
        "\n",
        "*   Armazene a pontuação de cada categoria de livro em uma variável.\n",
        "*  calcule o total de pontos acumulados por rodrigo\n",
        "*  mostre na tela o total de pontos acumulados por rodrigo\n",
        "\n",
        "\n",
        "\n",
        "\n"
      ],
      "metadata": {
        "id": "bEBISMdRkJbP"
      }
    },
    {
      "cell_type": "code",
      "source": [
        "livro_ficcao = 10\n",
        "livro_nficcao = 8\n",
        "livro_infantil = 6\n",
        "\n",
        "pontos_rodrigo = livro_ficcao + livro_nficcao + livro_infantil\n",
        "\n",
        "print(f\"Os pontos totais do rodrigo são: {pontos_rodrigo}\")"
      ],
      "metadata": {
        "colab": {
          "base_uri": "https://localhost:8080/"
        },
        "id": "aXoO_HbZd7xx",
        "outputId": "2071cd12-6838-4445-f5e7-bf41d86458da"
      },
      "execution_count": null,
      "outputs": [
        {
          "output_type": "stream",
          "name": "stdout",
          "text": [
            "Os pontos totais do rodrigo são: 24\n"
          ]
        }
      ]
    },
    {
      "cell_type": "markdown",
      "source": [
        "**aula 3**"
      ],
      "metadata": {
        "id": "e377jsFahSF2"
      }
    },
    {
      "cell_type": "code",
      "source": [
        "total_figurinhas = int(input(\"digite o totL de figuras: \"))\n",
        "numero_amigos = int(input(\"digite o número de amigos: \"))\n",
        "\n",
        "figurinhas_amigos = total_figurinhas // (numero_amigos + 2)\n",
        "\n",
        "figurinhas_joao = 2 * figurinhas_amigos\n",
        "\n",
        "print(f\"joão recebeu {figurinhas_joao} figurinhas. \")"
      ],
      "metadata": {
        "colab": {
          "base_uri": "https://localhost:8080/"
        },
        "id": "41mAnsKae9wD",
        "outputId": "0d1d825b-95ae-4b55-9453-55dc33a6cfb6"
      },
      "execution_count": null,
      "outputs": [
        {
          "output_type": "stream",
          "name": "stdout",
          "text": [
            "digite o totL de figuras: 100\n",
            "digite o número de amigos: 5\n",
            "joão recebeu 28 figurinhas. \n"
          ]
        }
      ]
    },
    {
      "cell_type": "markdown",
      "source": [
        "**AULA 4**"
      ],
      "metadata": {
        "id": "gYHokbIOg_6d"
      }
    },
    {
      "cell_type": "code",
      "source": [
        "numero_alunos = int(input(\"Digite a quantidade de alunos: \"))\n",
        "numero_monitores = int(input(\"Digite a quantidade de monitores: \"))\n",
        "resposta_positiva = \"pode ir \"\n",
        "resposta_negativa = \"não pode ir \"\n",
        "if numero_alunos + numero_monitores <= 50:\n",
        "  print(resposta_positiva)\n",
        "if numero_alunos + numero_monitores > 50:\n",
        "  print(resposta_negativa)"
      ],
      "metadata": {
        "colab": {
          "base_uri": "https://localhost:8080/"
        },
        "id": "CHQQvmk9hT2d",
        "outputId": "ce9a48ed-3bd9-4f31-9560-168016f28e8d"
      },
      "execution_count": 5,
      "outputs": [
        {
          "output_type": "stream",
          "name": "stdout",
          "text": [
            "Digite a quantidade de alunos: 10\n",
            "Digite a quantidade de monitores: 20\n",
            "pode ir \n"
          ]
        }
      ]
    }
  ]
}